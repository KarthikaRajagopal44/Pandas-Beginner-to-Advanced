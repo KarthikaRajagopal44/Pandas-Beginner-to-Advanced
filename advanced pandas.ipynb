{
 "cells": [
  {
   "cell_type": "code",
   "execution_count": 1,
   "id": "e899cbeb-2514-4eda-a4ef-aa3b255a6ec5",
   "metadata": {},
   "outputs": [],
   "source": [
    "import numpy as np\n",
    "import pandas as pd"
   ]
  },
  {
   "cell_type": "code",
   "execution_count": null,
   "id": "96d10657-fc61-4c23-af1e-cc67571bdb87",
   "metadata": {},
   "outputs": [],
   "source": [
    "A normal DataFrame"
   ]
  },
  {
   "cell_type": "code",
   "execution_count": 4,
   "id": "837c237d-4601-41b9-95cf-19a8b9870bdc",
   "metadata": {},
   "outputs": [],
   "source": [
    "data = {\n",
    "    'Name': ['Alice', 'Bob', 'Charlie', 'David', 'Eve', 'Frank'],\n",
    "    'Age': [24, 27, 22, 32, 29, 24],\n",
    "    'City': ['New York', 'Los Angeles', 'Chicago', 'Houston', 'Phoenix', 'New York'],\n",
    "    'Salary': [70000, 80000, 65000, 120000, 95000, 68000],\n",
    "    'Experience': [2, 5, 1, 10, 7, 2]\n",
    "}\n",
    "# Convert dictionary to DataFrame\n",
    "df = pd.DataFrame(data)"
   ]
  },
  {
   "cell_type": "code",
   "execution_count": null,
   "id": "48c532c4-f16a-4a29-a7a3-3a9f4b072213",
   "metadata": {},
   "outputs": [],
   "source": [
    "Using multi-indexing (hierarchical indexing)"
   ]
  },
  {
   "cell_type": "code",
   "execution_count": 5,
   "id": "7692aadf-ce8d-4abf-a0a3-24ee8eb9ff44",
   "metadata": {},
   "outputs": [
    {
     "name": "stdout",
     "output_type": "stream",
     "text": [
      "DataFrame with MultiIndex:\n",
      "                      Age  Salary  Experience\n",
      "City        Name                            \n",
      "New York    Alice     24   70000           2\n",
      "Los Angeles Bob       27   80000           5\n",
      "Chicago     Charlie   22   65000           1\n",
      "Houston     David     32  120000          10\n",
      "Phoenix     Eve       29   95000           7\n",
      "New York    Frank     24   68000           2\n"
     ]
    }
   ],
   "source": [
    "df.set_index(['City', 'Name'], inplace=True)\n",
    "print(\"DataFrame with MultiIndex:\\n\", df)"
   ]
  },
  {
   "cell_type": "code",
   "execution_count": null,
   "id": "37ebbbe9-de55-46fe-aa51-6ad2591acd4b",
   "metadata": {},
   "outputs": [],
   "source": [
    "Resetting multi-index to default integer index"
   ]
  },
  {
   "cell_type": "code",
   "execution_count": 6,
   "id": "19bb1afb-0eb1-403b-a997-327430262702",
   "metadata": {},
   "outputs": [
    {
     "name": "stdout",
     "output_type": "stream",
     "text": [
      "\n",
      "DataFrame after resetting MultiIndex:\n",
      "           City     Name  Age  Salary  Experience\n",
      "0     New York    Alice   24   70000           2\n",
      "1  Los Angeles      Bob   27   80000           5\n",
      "2      Chicago  Charlie   22   65000           1\n",
      "3      Houston    David   32  120000          10\n",
      "4      Phoenix      Eve   29   95000           7\n",
      "5     New York    Frank   24   68000           2\n"
     ]
    }
   ],
   "source": [
    "df.reset_index(inplace=True)\n",
    "print(\"\\nDataFrame after resetting MultiIndex:\\n\", df)"
   ]
  },
  {
   "cell_type": "code",
   "execution_count": null,
   "id": "22c2aee9-5b66-4b9d-b278-ca47080ad08f",
   "metadata": {},
   "outputs": [],
   "source": [
    "Using the query function to query the DataFrame"
   ]
  },
  {
   "cell_type": "code",
   "execution_count": 7,
   "id": "3efd59a5-6766-4e5e-8ece-204f496765ee",
   "metadata": {},
   "outputs": [
    {
     "name": "stdout",
     "output_type": "stream",
     "text": [
      "\n",
      "Query result where Age > 25 and Salary > 70000:\n",
      "           City   Name  Age  Salary  Experience\n",
      "1  Los Angeles    Bob   27   80000           5\n",
      "3      Houston  David   32  120000          10\n",
      "4      Phoenix    Eve   29   95000           7\n"
     ]
    }
   ],
   "source": [
    "result = df.query('Age > 25 and Salary > 70000')\n",
    "print(\"\\nQuery result where Age > 25 and Salary > 70000:\\n\", result)"
   ]
  },
  {
   "cell_type": "code",
   "execution_count": null,
   "id": "514bdf83-f9fe-4f0a-87ca-afc6c2895bf9",
   "metadata": {},
   "outputs": [],
   "source": [
    "Using the eval function for evaluating expressions"
   ]
  },
  {
   "cell_type": "code",
   "execution_count": 8,
   "id": "602cb3f2-5784-4e0c-9eed-1ac6096357c5",
   "metadata": {},
   "outputs": [
    {
     "name": "stdout",
     "output_type": "stream",
     "text": [
      "\n",
      "DataFrame after evaluating Salary After Tax:\n",
      "           City     Name  Age  Salary  Experience  Salary After Tax\n",
      "0     New York    Alice   24   70000           2           49000.0\n",
      "1  Los Angeles      Bob   27   80000           5           56000.0\n",
      "2      Chicago  Charlie   22   65000           1           45500.0\n",
      "3      Houston    David   32  120000          10           84000.0\n",
      "4      Phoenix      Eve   29   95000           7           66500.0\n",
      "5     New York    Frank   24   68000           2           47600.0\n"
     ]
    }
   ],
   "source": [
    "df['Salary After Tax'] = df.eval('Salary * 0.7')\n",
    "print(\"\\nDataFrame after evaluating Salary After Tax:\\n\", df)"
   ]
  },
  {
   "cell_type": "code",
   "execution_count": null,
   "id": "413eecbc-9cc5-4daa-b170-dcb5622027b0",
   "metadata": {},
   "outputs": [],
   "source": [
    "Time series data\n",
    "\n",
    "\n",
    "Creating data"
   ]
  },
  {
   "cell_type": "code",
   "execution_count": 9,
   "id": "dd25bcf4-5456-40f9-bf8f-33811ef876e6",
   "metadata": {},
   "outputs": [],
   "source": [
    "dates = pd.date_range('20210101', periods=6)"
   ]
  },
  {
   "cell_type": "code",
   "execution_count": null,
   "id": "0eccdac2-4612-4fab-a614-ed8d2c947b4a",
   "metadata": {},
   "outputs": [],
   "source": [
    "Creating a DataFrame with time series index"
   ]
  },
  {
   "cell_type": "code",
   "execution_count": 10,
   "id": "409e1afe-e034-4d8f-a512-52d9a832c9d7",
   "metadata": {},
   "outputs": [
    {
     "name": "stdout",
     "output_type": "stream",
     "text": [
      "\n",
      "Time series DataFrame:\n",
      "                    A         B         C         D\n",
      "2021-01-01  0.561334 -0.195253 -1.266928 -0.033401\n",
      "2021-01-02  0.068284 -0.132949 -1.161447  0.557771\n",
      "2021-01-03  1.431604  0.054423 -0.483531  0.767823\n",
      "2021-01-04  1.687224 -1.087964  0.158288 -1.017157\n",
      "2021-01-05 -0.322554  2.577319  0.608581  0.305277\n",
      "2021-01-06  0.421156  0.634915 -0.847765  1.298522\n"
     ]
    }
   ],
   "source": [
    "time_series_df = pd.DataFrame(np.random.randn(6, 4), index=dates, columns=list('ABCD'))\n",
    "print(\"\\nTime series DataFrame:\\n\", time_series_df)"
   ]
  },
  {
   "cell_type": "code",
   "execution_count": null,
   "id": "492b1d53-d79b-4947-9b08-48ddcfe51d5b",
   "metadata": {},
   "outputs": [],
   "source": [
    "Resampling time series data"
   ]
  },
  {
   "cell_type": "code",
   "execution_count": 11,
   "id": "9d234ed1-d598-4cae-a9b4-21b3cf6b6857",
   "metadata": {},
   "outputs": [
    {
     "name": "stdout",
     "output_type": "stream",
     "text": [
      "\n",
      "Resampled DataFrame (monthly mean):\n",
      "                    A         B       C         D\n",
      "2021-01-31  0.641175  0.308415 -0.4988  0.313139\n"
     ]
    },
    {
     "name": "stderr",
     "output_type": "stream",
     "text": [
      "C:\\Users\\KARTHIKA RAJAGOPAL\\AppData\\Local\\Temp\\ipykernel_3364\\4138361594.py:1: FutureWarning: 'M' is deprecated and will be removed in a future version, please use 'ME' instead.\n",
      "  resampled_df = time_series_df.resample('M').mean()\n"
     ]
    }
   ],
   "source": [
    "resampled_df = time_series_df.resample('M').mean()\n",
    "print(\"\\nResampled DataFrame (monthly mean):\\n\", resampled_df)"
   ]
  },
  {
   "cell_type": "code",
   "execution_count": null,
   "id": "1d9eeed6-4e9a-4617-81e5-17dab86a4daf",
   "metadata": {},
   "outputs": [],
   "source": [
    "Using rolling window calculations"
   ]
  },
  {
   "cell_type": "code",
   "execution_count": 12,
   "id": "1a5fb5e1-7b6f-4cb6-9a26-79315bc0e914",
   "metadata": {},
   "outputs": [
    {
     "name": "stdout",
     "output_type": "stream",
     "text": [
      "\n",
      "Rolling mean (window=3) of time series DataFrame:\n",
      "                    A         B         C         D\n",
      "2021-01-01       NaN       NaN       NaN       NaN\n",
      "2021-01-02       NaN       NaN       NaN       NaN\n",
      "2021-01-03  0.687074 -0.091260 -0.970635  0.430731\n",
      "2021-01-04  1.062371 -0.388830 -0.495563  0.102812\n",
      "2021-01-05  0.932091  0.514592  0.094446  0.018648\n",
      "2021-01-06  0.595275  0.708090 -0.026965  0.195547\n"
     ]
    }
   ],
   "source": [
    "rolling_mean = time_series_df.rolling(window=3).mean()\n",
    "print(\"\\nRolling mean (window=3) of time series DataFrame:\\n\", rolling_mean)"
   ]
  },
  {
   "cell_type": "code",
   "execution_count": null,
   "id": "979a9840-1e43-48b2-b36a-3b58b17493eb",
   "metadata": {},
   "outputs": [],
   "source": [
    "Using expanding window calculations"
   ]
  },
  {
   "cell_type": "code",
   "execution_count": 13,
   "id": "727d84bb-7149-49d5-ad04-087615417527",
   "metadata": {},
   "outputs": [
    {
     "name": "stdout",
     "output_type": "stream",
     "text": [
      "\n",
      "Expanding sum of time series DataFrame:\n",
      "                    A         B         C         D\n",
      "2021-01-01  0.561334 -0.195253 -1.266928 -0.033401\n",
      "2021-01-02  0.629617 -0.328202 -2.428375  0.524370\n",
      "2021-01-03  2.061222 -0.273780 -2.911906  1.292194\n",
      "2021-01-04  3.748446 -1.361744 -2.753617  0.275037\n",
      "2021-01-05  3.425892  1.215575 -2.145037  0.580314\n",
      "2021-01-06  3.847047  1.850490 -2.992801  1.878835\n"
     ]
    }
   ],
   "source": [
    "expanding_sum = time_series_df.expanding(min_periods=1).sum()\n",
    "print(\"\\nExpanding sum of time series DataFrame:\\n\", expanding_sum)"
   ]
  },
  {
   "cell_type": "code",
   "execution_count": null,
   "id": "776f42d6-3a4f-4937-ac6b-7ad94d0cc996",
   "metadata": {},
   "outputs": [],
   "source": [
    "Using the apply function with complex functions"
   ]
  },
  {
   "cell_type": "code",
   "execution_count": 14,
   "id": "11bcf747-f039-4f53-a940-f7bd6342c37e",
   "metadata": {},
   "outputs": [
    {
     "name": "stdout",
     "output_type": "stream",
     "text": [
      "\n",
      "Result of applying complex function (max - min) to Age and Salary columns:\n",
      " Age          10\n",
      "Salary    55000\n",
      "dtype: int64\n"
     ]
    }
   ],
   "source": [
    "def complex_function(x):\n",
    "    return x.max() - x.min()\n",
    "\n",
    "complex_result = df[['Age', 'Salary']].apply(complex_function, axis=0)\n",
    "print(\"\\nResult of applying complex function (max - min) to Age and Salary columns:\\n\", complex_result)"
   ]
  },
  {
   "cell_type": "code",
   "execution_count": null,
   "id": "7c051973-bff0-4ef4-875d-1df2caae243d",
   "metadata": {},
   "outputs": [],
   "source": [
    "Using the transform function for element-wise transformations"
   ]
  },
  {
   "cell_type": "code",
   "execution_count": 15,
   "id": "c3bc35e4-a0fc-40b0-87d6-f389e9360a0f",
   "metadata": {},
   "outputs": [
    {
     "name": "stdout",
     "output_type": "stream",
     "text": [
      "\n",
      "DataFrame after normalizing Salary within each City group:\n",
      "           City     Name  Age  Salary  Experience  Salary After Tax  \\\n",
      "0     New York    Alice   24   70000           2           49000.0   \n",
      "1  Los Angeles      Bob   27   80000           5           56000.0   \n",
      "2      Chicago  Charlie   22   65000           1           45500.0   \n",
      "3      Houston    David   32  120000          10           84000.0   \n",
      "4      Phoenix      Eve   29   95000           7           66500.0   \n",
      "5     New York    Frank   24   68000           2           47600.0   \n",
      "\n",
      "   Normalized Salary  \n",
      "0           0.707107  \n",
      "1                NaN  \n",
      "2                NaN  \n",
      "3                NaN  \n",
      "4                NaN  \n",
      "5          -0.707107  \n"
     ]
    }
   ],
   "source": [
    "df['Normalized Salary'] = df.groupby('City')['Salary'].transform(lambda x: (x - x.mean()) / x.std())\n",
    "print(\"\\nDataFrame after normalizing Salary within each City group:\\n\", df)"
   ]
  },
  {
   "cell_type": "code",
   "execution_count": null,
   "id": "a4edde0a-81bf-4a74-98b6-d9e7d7204d25",
   "metadata": {},
   "outputs": [],
   "source": [
    "Using the aggregate function for multiple aggregations"
   ]
  },
  {
   "cell_type": "code",
   "execution_count": 16,
   "id": "058dd393-e6d9-4625-8dd2-27a14c41ffa9",
   "metadata": {},
   "outputs": [
    {
     "name": "stdout",
     "output_type": "stream",
     "text": [
      "\n",
      "Aggregate result of Age and Salary by City:\n",
      "               Age          Salary                \n",
      "             mean min max     sum      mean count\n",
      "City                                             \n",
      "Chicago      22.0  22  22   65000   65000.0     1\n",
      "Houston      32.0  32  32  120000  120000.0     1\n",
      "Los Angeles  27.0  27  27   80000   80000.0     1\n",
      "New York     24.0  24  24  138000   69000.0     2\n",
      "Phoenix      29.0  29  29   95000   95000.0     1\n"
     ]
    }
   ],
   "source": [
    "agg_result = df.groupby('City').agg({\n",
    "    'Age': ['mean', 'min', 'max'],\n",
    "    'Salary': ['sum', 'mean', 'count']\n",
    "})\n",
    "print(\"\\nAggregate result of Age and Salary by City:\\n\", agg_result)"
   ]
  },
  {
   "cell_type": "code",
   "execution_count": null,
   "id": "e9b7f9c8-a4c5-4b42-9a87-c05764cd21bb",
   "metadata": {},
   "outputs": [],
   "source": [
    "Using pivot_table with multiple aggregation functions"
   ]
  },
  {
   "cell_type": "code",
   "execution_count": 17,
   "id": "d5f92ebf-3767-4080-a7a3-01f27bf8c2ce",
   "metadata": {},
   "outputs": [
    {
     "name": "stdout",
     "output_type": "stream",
     "text": [
      "\n",
      "Pivot table with multiple aggregation functions:\n",
      "                 mean                                           sum            \\\n",
      "Experience        1        2        5        7         10       1         2    \n",
      "City                                                                           \n",
      "Chicago      65000.0      NaN      NaN      NaN       NaN  65000.0       NaN   \n",
      "Houston          NaN      NaN      NaN      NaN  120000.0      NaN       NaN   \n",
      "Los Angeles      NaN      NaN  80000.0      NaN       NaN      NaN       NaN   \n",
      "New York         NaN  69000.0      NaN      NaN       NaN      NaN  138000.0   \n",
      "Phoenix          NaN      NaN      NaN  95000.0       NaN      NaN       NaN   \n",
      "\n",
      "                                         \n",
      "Experience        5        7         10  \n",
      "City                                     \n",
      "Chicago          NaN      NaN       NaN  \n",
      "Houston          NaN      NaN  120000.0  \n",
      "Los Angeles  80000.0      NaN       NaN  \n",
      "New York         NaN      NaN       NaN  \n",
      "Phoenix          NaN  95000.0       NaN  \n"
     ]
    },
    {
     "name": "stderr",
     "output_type": "stream",
     "text": [
      "C:\\Users\\KARTHIKA RAJAGOPAL\\AppData\\Local\\Temp\\ipykernel_3364\\651698548.py:1: FutureWarning: The provided callable <function mean at 0x0000027A891CEA20> is currently using DataFrameGroupBy.mean. In a future version of pandas, the provided callable will be used directly. To keep current behavior pass the string \"mean\" instead.\n",
      "  pivot_table = df.pivot_table(values='Salary', index='City', columns='Experience', aggfunc=[np.mean, np.sum])\n",
      "C:\\Users\\KARTHIKA RAJAGOPAL\\AppData\\Local\\Temp\\ipykernel_3364\\651698548.py:1: FutureWarning: The provided callable <function sum at 0x0000027A891CD940> is currently using DataFrameGroupBy.sum. In a future version of pandas, the provided callable will be used directly. To keep current behavior pass the string \"sum\" instead.\n",
      "  pivot_table = df.pivot_table(values='Salary', index='City', columns='Experience', aggfunc=[np.mean, np.sum])\n"
     ]
    }
   ],
   "source": [
    "pivot_table = df.pivot_table(values='Salary', index='City', columns='Experience', aggfunc=[np.mean, np.sum])\n",
    "print(\"\\nPivot table with multiple aggregation functions:\\n\", pivot_table)"
   ]
  },
  {
   "cell_type": "code",
   "execution_count": null,
   "id": "8c0d07b6-60ea-4c71-8f5c-7da1724346c0",
   "metadata": {},
   "outputs": [],
   "source": [
    "Merging dataframes"
   ]
  },
  {
   "cell_type": "code",
   "execution_count": null,
   "id": "1843d370-e25f-409a-8990-6fc1682b65f3",
   "metadata": {},
   "outputs": [],
   "source": [
    "df_left = df[['Name', 'Age']]\n",
    "df_right = df[['Name', 'Salary']]"
   ]
  },
  {
   "cell_type": "code",
   "execution_count": null,
   "id": "ae319e61-b7a4-4928-ab74-b46774c91b6d",
   "metadata": {},
   "outputs": [],
   "source": [
    "Inner join"
   ]
  },
  {
   "cell_type": "code",
   "execution_count": 18,
   "id": "d6f20476-1a0b-4d5f-92b9-415394c78fb7",
   "metadata": {},
   "outputs": [
    {
     "ename": "NameError",
     "evalue": "name 'df_left' is not defined",
     "output_type": "error",
     "traceback": [
      "\u001b[1;31m---------------------------------------------------------------------------\u001b[0m",
      "\u001b[1;31mNameError\u001b[0m                                 Traceback (most recent call last)",
      "Cell \u001b[1;32mIn[18], line 1\u001b[0m\n\u001b[1;32m----> 1\u001b[0m inner_merged_df \u001b[38;5;241m=\u001b[39m pd\u001b[38;5;241m.\u001b[39mmerge(df_left, df_right, on\u001b[38;5;241m=\u001b[39m\u001b[38;5;124m'\u001b[39m\u001b[38;5;124mName\u001b[39m\u001b[38;5;124m'\u001b[39m, how\u001b[38;5;241m=\u001b[39m\u001b[38;5;124m'\u001b[39m\u001b[38;5;124minner\u001b[39m\u001b[38;5;124m'\u001b[39m)\n\u001b[0;32m      2\u001b[0m \u001b[38;5;28mprint\u001b[39m(\u001b[38;5;124m\"\u001b[39m\u001b[38;5;130;01m\\n\u001b[39;00m\u001b[38;5;124mInner joined DataFrame:\u001b[39m\u001b[38;5;130;01m\\n\u001b[39;00m\u001b[38;5;124m\"\u001b[39m, inner_merged_df)\n",
      "\u001b[1;31mNameError\u001b[0m: name 'df_left' is not defined"
     ]
    }
   ],
   "source": [
    "inner_merged_df = pd.merge(df_left, df_right, on='Name', how='inner')\n",
    "print(\"\\nInner joined DataFrame:\\n\", inner_merged_df)"
   ]
  },
  {
   "cell_type": "code",
   "execution_count": null,
   "id": "83ce9048-0f0a-47bd-8bb4-846389436783",
   "metadata": {},
   "outputs": [],
   "source": [
    "Outer join"
   ]
  },
  {
   "cell_type": "code",
   "execution_count": 19,
   "id": "3abb8ab9-491b-4736-b15d-59841091e1f0",
   "metadata": {},
   "outputs": [
    {
     "ename": "NameError",
     "evalue": "name 'df_left' is not defined",
     "output_type": "error",
     "traceback": [
      "\u001b[1;31m---------------------------------------------------------------------------\u001b[0m",
      "\u001b[1;31mNameError\u001b[0m                                 Traceback (most recent call last)",
      "Cell \u001b[1;32mIn[19], line 1\u001b[0m\n\u001b[1;32m----> 1\u001b[0m outer_merged_df \u001b[38;5;241m=\u001b[39m pd\u001b[38;5;241m.\u001b[39mmerge(df_left, df_right, on\u001b[38;5;241m=\u001b[39m\u001b[38;5;124m'\u001b[39m\u001b[38;5;124mName\u001b[39m\u001b[38;5;124m'\u001b[39m, how\u001b[38;5;241m=\u001b[39m\u001b[38;5;124m'\u001b[39m\u001b[38;5;124mouter\u001b[39m\u001b[38;5;124m'\u001b[39m)\n\u001b[0;32m      2\u001b[0m \u001b[38;5;28mprint\u001b[39m(\u001b[38;5;124m\"\u001b[39m\u001b[38;5;130;01m\\n\u001b[39;00m\u001b[38;5;124mOuter joined DataFrame:\u001b[39m\u001b[38;5;130;01m\\n\u001b[39;00m\u001b[38;5;124m\"\u001b[39m, outer_merged_df)\n",
      "\u001b[1;31mNameError\u001b[0m: name 'df_left' is not defined"
     ]
    }
   ],
   "source": [
    "outer_merged_df = pd.merge(df_left, df_right, on='Name', how='outer')\n",
    "print(\"\\nOuter joined DataFrame:\\n\", outer_merged_df)"
   ]
  },
  {
   "cell_type": "code",
   "execution_count": null,
   "id": "e41addfa-0e05-4a6d-814a-a0ee6d33c108",
   "metadata": {},
   "outputs": [],
   "source": [
    "Using the merge_asof function for ordered merges"
   ]
  },
  {
   "cell_type": "code",
   "execution_count": 20,
   "id": "9672ff29-ae0f-4357-bf1d-caf0b72755f7",
   "metadata": {},
   "outputs": [],
   "source": [
    "df_stock = pd.DataFrame({\n",
    "    'Date': pd.date_range('20210101', periods=6),\n",
    "    'Stock_Price': [100, 102, 105, 107, 110, 115]\n",
    "})\n",
    "df_event = pd.DataFrame({\n",
    "    'Date': pd.date_range('20210102', periods=3, freq='2D'),\n",
    "    'Event': ['Event1', 'Event2', 'Event3']\n",
    "})"
   ]
  },
  {
   "cell_type": "code",
   "execution_count": 21,
   "id": "6e58a992-d503-4229-a8ae-273153e86c42",
   "metadata": {},
   "outputs": [
    {
     "name": "stdout",
     "output_type": "stream",
     "text": [
      "\n",
      "As-of merged DataFrame:\n",
      "         Date  Stock_Price   Event\n",
      "0 2021-01-01          100     NaN\n",
      "1 2021-01-02          102  Event1\n",
      "2 2021-01-03          105  Event1\n",
      "3 2021-01-04          107  Event2\n",
      "4 2021-01-05          110  Event2\n",
      "5 2021-01-06          115  Event3\n"
     ]
    }
   ],
   "source": [
    "asof_merged_df = pd.merge_asof(df_stock, df_event, on='Date')\n",
    "print(\"\\nAs-of merged DataFrame:\\n\", asof_merged_df)"
   ]
  },
  {
   "cell_type": "code",
   "execution_count": null,
   "id": "13dfc3ad-cd40-4f27-b39f-9ab6d8f4e8b7",
   "metadata": {},
   "outputs": [],
   "source": [
    "Using the crosstab function for cross-tabulation"
   ]
  },
  {
   "cell_type": "code",
   "execution_count": 22,
   "id": "d5c4e700-8f44-4ae1-889a-164ff22aeb20",
   "metadata": {},
   "outputs": [
    {
     "name": "stdout",
     "output_type": "stream",
     "text": [
      "\n",
      "Crosstab result of City and Experience:\n",
      " Experience   1   2   5   7   10\n",
      "City                           \n",
      "Chicago       1   0   0   0   0\n",
      "Houston       0   0   0   0   1\n",
      "Los Angeles   0   0   1   0   0\n",
      "New York      0   2   0   0   0\n",
      "Phoenix       0   0   0   1   0\n"
     ]
    }
   ],
   "source": [
    "crosstab_result = pd.crosstab(df['City'], df['Experience'])\n",
    "print(\"\\nCrosstab result of City and Experience:\\n\", crosstab_result)"
   ]
  },
  {
   "cell_type": "code",
   "execution_count": null,
   "id": "aade7477-463f-48dc-9bea-cfa34a0ae394",
   "metadata": {},
   "outputs": [],
   "source": [
    "Using the explode function to transform lists into rows"
   ]
  },
  {
   "cell_type": "code",
   "execution_count": 23,
   "id": "d662475b-9043-4254-9892-f6527608d7de",
   "metadata": {},
   "outputs": [
    {
     "name": "stdout",
     "output_type": "stream",
     "text": [
      "\n",
      "DataFrame after exploding Skills column:\n",
      "           City     Name  Age  Salary  Experience  Salary After Tax  \\\n",
      "0     New York    Alice   24   70000           2           49000.0   \n",
      "0     New York    Alice   24   70000           2           49000.0   \n",
      "1  Los Angeles      Bob   27   80000           5           56000.0   \n",
      "2      Chicago  Charlie   22   65000           1           45500.0   \n",
      "2      Chicago  Charlie   22   65000           1           45500.0   \n",
      "2      Chicago  Charlie   22   65000           1           45500.0   \n",
      "3      Houston    David   32  120000          10           84000.0   \n",
      "4      Phoenix      Eve   29   95000           7           66500.0   \n",
      "5     New York    Frank   24   68000           2           47600.0   \n",
      "5     New York    Frank   24   68000           2           47600.0   \n",
      "\n",
      "   Normalized Salary  Skills  \n",
      "0           0.707107  Python  \n",
      "0           0.707107       R  \n",
      "1                NaN    Java  \n",
      "2                NaN  Python  \n",
      "2                NaN    Java  \n",
      "2                NaN       R  \n",
      "3                NaN     NaN  \n",
      "4                NaN  Python  \n",
      "5          -0.707107    Java  \n",
      "5          -0.707107     C++  \n"
     ]
    }
   ],
   "source": [
    "df_with_list = df.copy()\n",
    "df_with_list['Skills'] = [['Python', 'R'], ['Java'], ['Python', 'Java', 'R'], [], ['Python'], ['Java', 'C++']]\n",
    "exploded_df = df_with_list.explode('Skills')\n",
    "print(\"\\nDataFrame after exploding Skills column:\\n\", exploded_df)"
   ]
  },
  {
   "cell_type": "code",
   "execution_count": null,
   "id": "feb90d78-e33f-409e-9e53-9b7769c0449f",
   "metadata": {},
   "outputs": [],
   "source": [
    "Styling DataFrames"
   ]
  },
  {
   "cell_type": "code",
   "execution_count": 24,
   "id": "06bd3bf2-f8eb-4ed2-ab11-bd6f2c3c33a9",
   "metadata": {},
   "outputs": [],
   "source": [
    "def highlight_max(s):\n",
    "    is_max = s == s.max()\n",
    "    return ['background-color: yellow' if v else '' for v in is_max]"
   ]
  },
  {
   "cell_type": "code",
   "execution_count": 25,
   "id": "00745aeb-b0bc-48ca-b389-8beb05be710e",
   "metadata": {},
   "outputs": [
    {
     "name": "stdout",
     "output_type": "stream",
     "text": [
      "\n",
      "Styled DataFrame:\n",
      " <pandas.io.formats.style.Styler object at 0x0000027A8A5C7710>\n"
     ]
    }
   ],
   "source": [
    "styled_df = df.style.apply(highlight_max, subset=['Age', 'Salary'])\n",
    "print(\"\\nStyled DataFrame:\\n\", styled_df)"
   ]
  },
  {
   "cell_type": "code",
   "execution_count": null,
   "id": "79c1eab6-e7a5-40f4-8fdb-56c7c128feb8",
   "metadata": {},
   "outputs": [],
   "source": [
    "Using the pipe function to apply multiple functions sequentially"
   ]
  },
  {
   "cell_type": "code",
   "execution_count": 27,
   "id": "421bf2cd-f47c-4aa9-ac89-698455c749cb",
   "metadata": {},
   "outputs": [
    {
     "name": "stdout",
     "output_type": "stream",
     "text": [
      "\n",
      "DataFrame after applying multiple functions sequentially with pipe:\n",
      "           City     Name  Age    Salary  Experience  Salary After Tax  \\\n",
      "0     New York    Alice   24   73500.0           3           49000.0   \n",
      "1  Los Angeles      Bob   27   84000.0           6           56000.0   \n",
      "2      Chicago  Charlie   22   68250.0           2           45500.0   \n",
      "3      Houston    David   32  126000.0          11           84000.0   \n",
      "4      Phoenix      Eve   29   99750.0           8           66500.0   \n",
      "5     New York    Frank   24   71400.0           3           47600.0   \n",
      "\n",
      "   Normalized Salary  \n",
      "0           0.707107  \n",
      "1                NaN  \n",
      "2                NaN  \n",
      "3                NaN  \n",
      "4                NaN  \n",
      "5          -0.707107  \n"
     ]
    }
   ],
   "source": [
    "def add_experience(df):\n",
    "    df['Experience'] = df['Experience'] + 1\n",
    "    return df\n",
    "\n",
    "def increase_salary(df):\n",
    "    df['Salary'] = df['Salary'] * 1.05\n",
    "    return df\n",
    "\n",
    "piped_df = df.pipe(add_experience).pipe(increase_salary)\n",
    "print(\"\\nDataFrame after applying multiple functions sequentially with pipe:\\n\", piped_df)"
   ]
  },
  {
   "cell_type": "code",
   "execution_count": null,
   "id": "c850e729-5c94-4eaa-a3e4-44bf45491d69",
   "metadata": {},
   "outputs": [],
   "source": []
  }
 ],
 "metadata": {
  "kernelspec": {
   "display_name": "Python 3 (ipykernel)",
   "language": "python",
   "name": "python3"
  },
  "language_info": {
   "codemirror_mode": {
    "name": "ipython",
    "version": 3
   },
   "file_extension": ".py",
   "mimetype": "text/x-python",
   "name": "python",
   "nbconvert_exporter": "python",
   "pygments_lexer": "ipython3",
   "version": "3.12.4"
  }
 },
 "nbformat": 4,
 "nbformat_minor": 5
}

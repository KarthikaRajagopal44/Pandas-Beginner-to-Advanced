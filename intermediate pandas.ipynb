{
 "cells": [
  {
   "cell_type": "code",
   "execution_count": null,
   "id": "6b100d64-b50e-4e42-9c3b-6cf7a975fc16",
   "metadata": {},
   "outputs": [],
   "source": [
    "import numpy as np\n",
    "import pandas as pd"
   ]
  },
  {
   "cell_type": "code",
   "execution_count": null,
   "id": "c521a1d0-89c9-486c-be0d-a4949cd1a702",
   "metadata": {},
   "outputs": [],
   "source": [
    "Create dataframe"
   ]
  },
  {
   "cell_type": "code",
   "execution_count": 4,
   "id": "125f256d-529b-4f8a-a75c-fc892defe8e7",
   "metadata": {},
   "outputs": [
    {
     "name": "stdout",
     "output_type": "stream",
     "text": [
      "Data types of columns:\n",
      " Name          object\n",
      "Age            int64\n",
      "City          object\n",
      "Experience     int64\n",
      "dtype: object\n"
     ]
    }
   ],
   "source": [
    "import pandas as pd  # Import pandas\n",
    "\n",
    "# Define data\n",
    "data = {\n",
    "    'Name': ['Alice', 'Bob', 'Charlie', 'David', 'Eve'],\n",
    "    'Age': [24, 27, 22, 32, 29],\n",
    "    'City': ['New York', 'Los Angeles', 'Chicago', 'Houston', 'Phoenix'],\n",
    "    'Experience': [2, 5, 1, 10, 7]\n",
    "}\n",
    "\n",
    "# Create DataFrame\n",
    "df = pd.DataFrame(data)\n",
    "\n",
    "# Displaying data types of columns\n",
    "print(\"Data types of columns:\\n\", df.dtypes)\n"
   ]
  },
  {
   "cell_type": "code",
   "execution_count": null,
   "id": "8de29c48-7a5c-4634-a0cb-ddf4c5a7a94c",
   "metadata": {},
   "outputs": [],
   "source": [
    "Converting data types"
   ]
  },
  {
   "cell_type": "code",
   "execution_count": 5,
   "id": "207bb6a7-c3d0-480b-bd13-5314a954666e",
   "metadata": {},
   "outputs": [
    {
     "name": "stdout",
     "output_type": "stream",
     "text": [
      "\n",
      "DataFrame after converting Age to float:\n",
      " Name           object\n",
      "Age           float64\n",
      "City           object\n",
      "Experience      int64\n",
      "dtype: object\n"
     ]
    }
   ],
   "source": [
    "df['Age'] = df['Age'].astype(float)\n",
    "print(\"\\nDataFrame after converting Age to float:\\n\", df.dtypes)"
   ]
  },
  {
   "cell_type": "code",
   "execution_count": null,
   "id": "885cfb0f-60bf-4cb4-93a6-3dbf651c55ea",
   "metadata": {},
   "outputs": [],
   "source": [
    "Setting a column as the index"
   ]
  },
  {
   "cell_type": "code",
   "execution_count": 6,
   "id": "18d92423-66f6-418b-a11a-b5fdf6b31873",
   "metadata": {},
   "outputs": [
    {
     "name": "stdout",
     "output_type": "stream",
     "text": [
      "\n",
      "DataFrame after setting Name as index:\n",
      "           Age         City  Experience\n",
      "Name                                  \n",
      "Alice    24.0     New York           2\n",
      "Bob      27.0  Los Angeles           5\n",
      "Charlie  22.0      Chicago           1\n",
      "David    32.0      Houston          10\n",
      "Eve      29.0      Phoenix           7\n"
     ]
    }
   ],
   "source": [
    "df.set_index('Name', inplace=True)\n",
    "print(\"\\nDataFrame after setting Name as index:\\n\", df)"
   ]
  },
  {
   "cell_type": "code",
   "execution_count": null,
   "id": "55504f90-5d65-4620-b3bf-5fd93addb790",
   "metadata": {},
   "outputs": [],
   "source": [
    "Resetting the index"
   ]
  },
  {
   "cell_type": "code",
   "execution_count": 7,
   "id": "7349fd52-924c-40b0-8ab3-fb28f47b3054",
   "metadata": {},
   "outputs": [
    {
     "name": "stdout",
     "output_type": "stream",
     "text": [
      "\n",
      "DataFrame after resetting the index:\n",
      "       Name   Age         City  Experience\n",
      "0    Alice  24.0     New York           2\n",
      "1      Bob  27.0  Los Angeles           5\n",
      "2  Charlie  22.0      Chicago           1\n",
      "3    David  32.0      Houston          10\n",
      "4      Eve  29.0      Phoenix           7\n"
     ]
    }
   ],
   "source": [
    "df.reset_index(inplace=True)\n",
    "print(\"\\nDataFrame after resetting the index:\\n\", df)"
   ]
  },
  {
   "cell_type": "code",
   "execution_count": null,
   "id": "2f55cbc1-ef24-4867-80fb-fd7941ec7507",
   "metadata": {},
   "outputs": [],
   "source": [
    "Using the apply function to apply a function to each column"
   ]
  },
  {
   "cell_type": "code",
   "execution_count": null,
   "id": "501c60c1-3d41-43f2-8d4f-c1ea654136a2",
   "metadata": {},
   "outputs": [],
   "source": [
    "df['Salary in K'] = df['Salary'].apply(lambda x: x / 1000)\n",
    "print(\"\\nDataFrame after applying a function to the Salary column:\\n\", df)"
   ]
  },
  {
   "cell_type": "code",
   "execution_count": null,
   "id": "5f52dfca-cad6-4998-aa40-151102125afe",
   "metadata": {},
   "outputs": [],
   "source": [
    "Using the applymap function to apply a function element-wise"
   ]
  },
  {
   "cell_type": "code",
   "execution_count": null,
   "id": "295f6449-1940-4116-877a-4984ff367639",
   "metadata": {},
   "outputs": [],
   "source": [
    "df[['Age', 'Salary']] = df[['Age', 'Salary']].applymap(lambda x: x + 1)\n",
    "print(\"\\nDataFrame after applying a function element-wise to Age and Salary:\\n\", df)"
   ]
  },
  {
   "cell_type": "code",
   "execution_count": null,
   "id": "edbe361b-91c2-47ed-ba34-325e220f565f",
   "metadata": {},
   "outputs": [],
   "source": [
    "Using the map function to map values in a Series"
   ]
  },
  {
   "cell_type": "code",
   "execution_count": 11,
   "id": "e896cab2-cc6e-4c0e-9872-498824037748",
   "metadata": {},
   "outputs": [
    {
     "name": "stdout",
     "output_type": "stream",
     "text": [
      "\n",
      "DataFrame after mapping City to abbreviations:\n",
      "       Name   Age         City  Experience City Abbreviation\n",
      "0    Alice  24.0     New York           2                NY\n",
      "1      Bob  27.0  Los Angeles           5                LA\n",
      "2  Charlie  22.0      Chicago           1               CHI\n",
      "3    David  32.0      Houston          10               HOU\n",
      "4      Eve  29.0      Phoenix           7               PHX\n"
     ]
    }
   ],
   "source": [
    "city_map = {\n",
    "    'New York': 'NY',\n",
    "    'Los Angeles': 'LA',\n",
    "    'Chicago': 'CHI',\n",
    "    'Houston': 'HOU',\n",
    "    'Phoenix': 'PHX'\n",
    "}\n",
    "\n",
    "df['City Abbreviation'] = df['City'].map(city_map)\n",
    "print(\"\\nDataFrame after mapping City to abbreviations:\\n\", df)"
   ]
  },
  {
   "cell_type": "code",
   "execution_count": null,
   "id": "a452f9c8-1abc-4efa-8dc3-95d88129e145",
   "metadata": {},
   "outputs": [],
   "source": [
    "Using the merge function to merge DataFrames"
   ]
  },
  {
   "cell_type": "code",
   "execution_count": 12,
   "id": "9642046e-72e5-4baa-91dd-c3bb70bb79d8",
   "metadata": {},
   "outputs": [
    {
     "name": "stdout",
     "output_type": "stream",
     "text": [
      "\n",
      "Merged DataFrame:\n",
      "       Name   Age         City  Experience City Abbreviation   Department\n",
      "0    Alice  24.0     New York           2                NY           HR\n",
      "1      Bob  27.0  Los Angeles           5                LA  Engineering\n",
      "2  Charlie  22.0      Chicago           1               CHI    Marketing\n",
      "3    David  32.0      Houston          10               HOU        Sales\n",
      "4      Eve  29.0      Phoenix           7               PHX      Finance\n"
     ]
    }
   ],
   "source": [
    "additional_data = {\n",
    "    'Name': ['Alice', 'Bob', 'Charlie', 'David', 'Eve'],\n",
    "    'Department': ['HR', 'Engineering', 'Marketing', 'Sales', 'Finance']\n",
    "}\n",
    "df_additional = pd.DataFrame(additional_data)\n",
    "merged_df = pd.merge(df, df_additional, on='Name')\n",
    "print(\"\\nMerged DataFrame:\\n\", merged_df)"
   ]
  },
  {
   "cell_type": "code",
   "execution_count": null,
   "id": "2ad5f18d-99eb-4416-ba85-74a4872bd4a3",
   "metadata": {},
   "outputs": [],
   "source": [
    "Using the pivot_table function for data summarization"
   ]
  },
  {
   "cell_type": "code",
   "execution_count": null,
   "id": "425caf9f-860a-41f2-b02b-0c86300c7dce",
   "metadata": {},
   "outputs": [],
   "source": [
    "pivot = df.pivot_table(values='Salary', index='City', columns='Experience', aggfunc=np.mean)\n",
    "print(\"\\nPivot table of Salary by City and Experience:\\n\", pivot)"
   ]
  },
  {
   "cell_type": "code",
   "execution_count": null,
   "id": "5e91e9b8-99aa-4468-9c25-abd234af05bd",
   "metadata": {},
   "outputs": [],
   "source": [
    "Using the melt function to unpivot a DataFrame from wide to long format"
   ]
  },
  {
   "cell_type": "code",
   "execution_count": null,
   "id": "0dbfb66e-1022-4227-8269-3c716818e571",
   "metadata": {},
   "outputs": [],
   "source": [
    "melted = df.melt(id_vars=['Name', 'City'], value_vars=['Age', 'Salary'])\n",
    "print(\"\\nMelted DataFrame:\\n\", melted)"
   ]
  },
  {
   "cell_type": "code",
   "execution_count": null,
   "id": "9d5e6f39-93bb-4115-9464-22298b2cf1cc",
   "metadata": {},
   "outputs": [],
   "source": [
    "Using the pivot function to pivot a DataFrame from long to wide format"
   ]
  },
  {
   "cell_type": "code",
   "execution_count": null,
   "id": "ea4172b1-8138-4b43-a4b2-29a6969d6314",
   "metadata": {},
   "outputs": [],
   "source": [
    "pivoted = melted.pivot(index='Name', columns='variable', values='value')\n",
    "print(\"\\nPivoted DataFrame:\\n\", pivoted)"
   ]
  },
  {
   "cell_type": "code",
   "execution_count": null,
   "id": "72b2ada6-e8f6-42f1-933b-74b5adff7fb0",
   "metadata": {},
   "outputs": [],
   "source": [
    "Using the cut function to segment and sort data into bins"
   ]
  },
  {
   "cell_type": "code",
   "execution_count": 16,
   "id": "3a231b28-550f-4142-a907-70afe87807a6",
   "metadata": {},
   "outputs": [
    {
     "name": "stdout",
     "output_type": "stream",
     "text": [
      "\n",
      "DataFrame after segmenting Age into bins:\n",
      "       Name   Age         City  Experience City Abbreviation Age Group\n",
      "0    Alice  24.0     New York           2                NY     20-25\n",
      "1      Bob  27.0  Los Angeles           5                LA     25-30\n",
      "2  Charlie  22.0      Chicago           1               CHI     20-25\n",
      "3    David  32.0      Houston          10               HOU     30-35\n",
      "4      Eve  29.0      Phoenix           7               PHX     25-30\n"
     ]
    }
   ],
   "source": [
    "df['Age Group'] = pd.cut(df['Age'], bins=[20, 25, 30, 35], labels=['20-25', '25-30', '30-35'])\n",
    "print(\"\\nDataFrame after segmenting Age into bins:\\n\", df)"
   ]
  },
  {
   "cell_type": "code",
   "execution_count": null,
   "id": "ae22cdcd-1b53-460a-a373-b4a1c7e05a0a",
   "metadata": {},
   "outputs": [],
   "source": [
    "Using the qcut function to segment and sort data into quantiles"
   ]
  },
  {
   "cell_type": "code",
   "execution_count": null,
   "id": "8fddd579-fb89-4748-a534-6f863f320187",
   "metadata": {},
   "outputs": [],
   "source": [
    "df['Salary Quantile'] = pd.qcut(df['Salary'], q=4, labels=['Q1', 'Q2', 'Q3', 'Q4'])\n",
    "print(\"\\nDataFrame after segmenting Salary into quantiles:\\n\", df)"
   ]
  },
  {
   "cell_type": "code",
   "execution_count": null,
   "id": "34a7e411-8017-4de6-b628-8e69af832f42",
   "metadata": {},
   "outputs": [],
   "source": [
    "Using the sample function to randomly sample rows"
   ]
  },
  {
   "cell_type": "code",
   "execution_count": 18,
   "id": "61a2ee18-4304-4e57-9762-528f58ec6b24",
   "metadata": {},
   "outputs": [
    {
     "name": "stdout",
     "output_type": "stream",
     "text": [
      "\n",
      "Randomly sampled DataFrame:\n",
      "       Name   Age      City  Experience City Abbreviation Age Group\n",
      "2  Charlie  22.0   Chicago           1               CHI     20-25\n",
      "0    Alice  24.0  New York           2                NY     20-25\n",
      "4      Eve  29.0   Phoenix           7               PHX     25-30\n"
     ]
    }
   ],
   "source": [
    "sampled_df = df.sample(n=3)\n",
    "print(\"\\nRandomly sampled DataFrame:\\n\", sampled_df)"
   ]
  },
  {
   "cell_type": "code",
   "execution_count": null,
   "id": "692e5852-b0a2-4457-84c2-705c0933ddb1",
   "metadata": {},
   "outputs": [],
   "source": [
    "Using the isin function to filter DataFrame based on a list of values"
   ]
  },
  {
   "cell_type": "code",
   "execution_count": 19,
   "id": "af41be57-0020-4d24-91a0-454948f68383",
   "metadata": {},
   "outputs": [
    {
     "name": "stdout",
     "output_type": "stream",
     "text": [
      "\n",
      "Filtered DataFrame with cities New York and Chicago:\n",
      "       Name   Age      City  Experience City Abbreviation Age Group\n",
      "0    Alice  24.0  New York           2                NY     20-25\n",
      "2  Charlie  22.0   Chicago           1               CHI     20-25\n"
     ]
    }
   ],
   "source": [
    "filtered_df = df[df['City'].isin(['New York', 'Chicago'])]\n",
    "print(\"\\nFiltered DataFrame with cities New York and Chicago:\\n\", filtered_df)"
   ]
  },
  {
   "cell_type": "code",
   "execution_count": null,
   "id": "c816d5ed-18a9-4528-9089-6c9cf6465f7a",
   "metadata": {},
   "outputs": [],
   "source": [
    "Using the rank function to compute numerical data ranks"
   ]
  },
  {
   "cell_type": "code",
   "execution_count": null,
   "id": "2cb47b46-211b-4201-a2e3-caceef0808b7",
   "metadata": {},
   "outputs": [],
   "source": [
    "df['Salary Rank'] = df['Salary'].rank()\n",
    "print(\"\\nDataFrame after computing salary ranks:\\n\", df)"
   ]
  },
  {
   "cell_type": "code",
   "execution_count": null,
   "id": "908610cf-e84d-467c-8483-639b952c7a46",
   "metadata": {},
   "outputs": [],
   "source": [
    "Saving DataFrame to an Excel file"
   ]
  },
  {
   "cell_type": "code",
   "execution_count": 21,
   "id": "b250526f-02f4-4a7b-a48f-9d921984a20c",
   "metadata": {},
   "outputs": [
    {
     "name": "stdout",
     "output_type": "stream",
     "text": [
      "\n",
      "DataFrame saved to 'employee_data.xlsx'\n"
     ]
    }
   ],
   "source": [
    "df.to_excel('employee_data.xlsx', index=False)\n",
    "print(\"\\nDataFrame saved to 'employee_data.xlsx'\")"
   ]
  },
  {
   "cell_type": "code",
   "execution_count": null,
   "id": "851e9990-3e42-49f5-a921-228fff8c46d0",
   "metadata": {},
   "outputs": [],
   "source": [
    "Reading DataFrame from an Excel file"
   ]
  },
  {
   "cell_type": "code",
   "execution_count": 22,
   "id": "c8cbb047-51fa-440d-a508-a5e49ff29faf",
   "metadata": {},
   "outputs": [
    {
     "name": "stdout",
     "output_type": "stream",
     "text": [
      "\n",
      "DataFrame read from 'employee_data.xlsx':\n",
      "       Name  Age         City  Experience City Abbreviation Age Group\n",
      "0    Alice   24     New York           2                NY     20-25\n",
      "1      Bob   27  Los Angeles           5                LA     25-30\n",
      "2  Charlie   22      Chicago           1               CHI     20-25\n",
      "3    David   32      Houston          10               HOU     30-35\n",
      "4      Eve   29      Phoenix           7               PHX     25-30\n"
     ]
    }
   ],
   "source": [
    "df_from_excel = pd.read_excel('employee_data.xlsx')\n",
    "print(\"\\nDataFrame read from 'employee_data.xlsx':\\n\", df_from_excel)"
   ]
  },
  {
   "cell_type": "code",
   "execution_count": null,
   "id": "dc92851f-0bd7-4f42-899a-f1102a3f4739",
   "metadata": {},
   "outputs": [],
   "source": []
  }
 ],
 "metadata": {
  "kernelspec": {
   "display_name": "Python 3 (ipykernel)",
   "language": "python",
   "name": "python3"
  },
  "language_info": {
   "codemirror_mode": {
    "name": "ipython",
    "version": 3
   },
   "file_extension": ".py",
   "mimetype": "text/x-python",
   "name": "python",
   "nbconvert_exporter": "python",
   "pygments_lexer": "ipython3",
   "version": "3.12.4"
  }
 },
 "nbformat": 4,
 "nbformat_minor": 5
}
